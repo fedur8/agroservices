{
 "cells": [
  {
   "cell_type": "markdown",
   "id": "bb705f67-cb8a-4af0-a721-22270f7f872e",
   "metadata": {},
   "source": [
    "# Phis Demo"
   ]
  },
  {
   "cell_type": "code",
   "execution_count": 1,
   "id": "8b735135-5275-4711-952c-7b1cf1141c24",
   "metadata": {},
   "outputs": [],
   "source": [
    "from agroservices.phis.phis import Phis"
   ]
  },
  {
   "cell_type": "markdown",
   "id": "8c1b7aaa-f001-4c7a-951e-a0d74edba0c3",
   "metadata": {},
   "source": [
    "### Navigate data"
   ]
  },
  {
   "cell_type": "markdown",
   "id": "2888f417-39a6-4d4b-903c-c238775923be",
   "metadata": {},
   "source": [
    "#### List available experriments"
   ]
  },
  {
   "cell_type": "code",
   "execution_count": 4,
   "id": "cbd24e93-8592-45b4-9fed-d2f58d34e04b",
   "metadata": {},
   "outputs": [
    {
     "name": "stderr",
     "output_type": "stream",
     "text": [
      "\u001b[33mWARNING [agroservices:Phis:116]: \u001b[0m \u001b[34mThe URL (http://147.100.202.17/m3p/rest/) provided cannot be reached.\u001b[0m\n"
     ]
    },
    {
     "ename": "AttributeError",
     "evalue": "'Phis' object has no attribute 'get_experiments'",
     "output_type": "error",
     "traceback": [
      "\u001b[1;31m---------------------------------------------------------------------------\u001b[0m",
      "\u001b[1;31mAttributeError\u001b[0m                            Traceback (most recent call last)",
      "Cell \u001b[1;32mIn[4], line 3\u001b[0m\n\u001b[0;32m      1\u001b[0m phis\u001b[38;5;241m=\u001b[39mPhis()\n\u001b[0;32m      2\u001b[0m token\u001b[38;5;241m=\u001b[39mphis\u001b[38;5;241m.\u001b[39mauthenticate()\n\u001b[1;32m----> 3\u001b[0m \u001b[43mphis\u001b[49m\u001b[38;5;241;43m.\u001b[39;49m\u001b[43mget_experiments\u001b[49m(token)\n",
      "\u001b[1;31mAttributeError\u001b[0m: 'Phis' object has no attribute 'get_experiments'"
     ]
    }
   ],
   "source": [
    "phis=Phis()\n",
    "token=phis.authenticate()\n",
    "phis.get_experiments(token)"
   ]
  },
  {
   "cell_type": "code",
   "execution_count": null,
   "id": "bfdce3db-d828-4b8e-8f0b-aacb0742578c",
   "metadata": {},
   "outputs": [],
   "source": []
  }
 ],
 "metadata": {
  "kernelspec": {
   "display_name": "Python 3 (ipykernel)",
   "language": "python",
   "name": "python3"
  },
  "language_info": {
   "codemirror_mode": {
    "name": "ipython",
    "version": 3
   },
   "file_extension": ".py",
   "mimetype": "text/x-python",
   "name": "python",
   "nbconvert_exporter": "python",
   "pygments_lexer": "ipython3",
   "version": "3.12.3"
  }
 },
 "nbformat": 4,
 "nbformat_minor": 5
}
